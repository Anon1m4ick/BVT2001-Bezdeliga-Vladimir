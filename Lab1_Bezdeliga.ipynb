{
 "cells": [
  {
   "cell_type": "markdown",
   "metadata": {},
   "source": [
    "# Лабораторная работа №1\n",
    "## Выполнил студент группы БВТ2001 Безделига Владимир Владимирович\n",
    "### Задание №1\n",
    "Вывести на экран Hello, World!"
   ]
  },
  {
   "cell_type": "code",
   "execution_count": 1,
   "metadata": {},
   "outputs": [
    {
     "name": "stdout",
     "output_type": "stream",
     "text": [
      "Hello, World!\n"
     ]
    }
   ],
   "source": [
    "print(\"Hello, World!\")"
   ]
  },
  {
   "cell_type": "markdown",
   "metadata": {},
   "source": [
    "### Задание №2 \n",
    "Написать генератор случайных матриц(многомерных), который принимает опциональные параметры m, n, min_limit, max_limit, где m и n указывают размер матрицы, а min_lim и max_lim - минимальное и максимальное значение для генерируемого числа . По умолчанию при отсутствии параметров принимать следующие значения: m = 50 n = 50 min_limit = -250 max_limit = 1000 + (номер своего варианта)"
   ]
  },
  {
   "cell_type": "code",
   "execution_count": 22,
   "metadata": {},
   "outputs": [
    {
     "name": "stdout",
     "output_type": "stream",
     "text": [
      "[[-223, 763, 407, 3, 366, 959, 678, 230, 855, -244], [904, -156, 300, -123, 665, -165, 840, 473, 292, 116], [75, 889, 445, 545, 580, 440, -4, 157, 65, 634], [-128, 681, 72, -122, -131, 752, -226, 541, -58, -155], [92, 286, 131, 688, -119, 602, 820, -236, -76, 402], [405, 212, -76, -44, 141, 278, 907, -86, 831, 646], [639, 610, 693, -182, 556, -131, 928, 684, 520, 625], [705, 755, 837, 643, -175, 631, 669, 262, 776, 191], [451, 781, 355, 357, 643, 627, 993, 688, -172, 221], [986, -242, 840, 125, 86, 337, 550, 112, 45, 1001]]\n"
     ]
    }
   ],
   "source": [
    "import random\n",
    "import time\n",
    "def gener( m = 50, n = 50, min_lim = -250, max_lim = 1000+1): \n",
    "    matr = []\n",
    "    for i in range(m):\n",
    "        matr.append([])\n",
    "        for j in range(n):\n",
    "            matr[i].append(random.randint(min_lim,max_lim))\n",
    "    return matr\n",
    "print(gener(10,10,-250,1001))"
   ]
  },
  {
   "cell_type": "markdown",
   "metadata": {},
   "source": [
    "### Задание №3\n",
    "Реализовать методы сортировки строк числовой матрицы в соответствии с заданием. Оценить время работы каждого алгоритма сортировки и сравнить его со временем стандартной функции сортировки. Испытания проводить на сгенерированных матрицах. Методы: 1) выбором 2) вставкой 3) обменом 4) Шелла 5) турнирная 6) быстрая сортировка 7) пирамидальная"
   ]
  },
  {
   "cell_type": "markdown",
   "metadata": {},
   "source": [
    "#### Встроенная сортировка"
   ]
  },
  {
   "cell_type": "code",
   "execution_count": 53,
   "metadata": {},
   "outputs": [
    {
     "name": "stdout",
     "output_type": "stream",
     "text": [
      "[-32, 9, 440, 590, 987, -204, 156, 969, 284, -213]\n",
      "[-213, -204, -32, 9, 156, 284, 440, 590, 969, 987] \n",
      "Встроенная сортировка заняла 0.0000696000 секунд\n"
     ]
    }
   ],
   "source": [
    "matr_random = [random.randint(-250, 1001) for i in range(10)]\n",
    "print(matr_random)\n",
    "time_start = time.perf_counter()\n",
    "sorted(matr_random)\n",
    "time_end = time.perf_counter()\n",
    "print(sorted(matr_random), f\"\\nВстроенная сортировка заняла {time_end - time_start:0.10f} секунд\")"
   ]
  },
  {
   "cell_type": "markdown",
   "metadata": {},
   "source": [
    "#### Выбором"
   ]
  },
  {
   "cell_type": "code",
   "execution_count": 54,
   "metadata": {},
   "outputs": [
    {
     "name": "stdout",
     "output_type": "stream",
     "text": [
      "[592, 37, 697, 979, 653, 483, 895, 809, -167, 19]\n",
      "[-167, 19, 37, 483, 592, 653, 697, 809, 895, 979] \n",
      "Сортировка выбором заняла 0.0001519000 секунд \n",
      "Сортировка выбором медленнее встроенной\n"
     ]
    }
   ],
   "source": [
    "def select_sort(matr):\n",
    "    for i in range(len(matr)):\n",
    "        min = i\n",
    "        for j in range(i, len(matr)):\n",
    "            if matr[j] < matr[min]:\n",
    "                min = j\n",
    "        matr[i], matr[min] = matr[min], matr[i]\n",
    "matr_random = [random.randint(-250, 1001) for i in range(10)]\n",
    "print(matr_random)\n",
    "time_start = time.perf_counter()\n",
    "select_sort(matr_random)\n",
    "time_end = time.perf_counter()\n",
    "print(matr_random, f\"\\nСортировка выбором заняла {time_end - time_start:0.10f} секунд \\nСортировка выбором медленнее встроенной\")"
   ]
  },
  {
   "cell_type": "markdown",
   "metadata": {},
   "source": [
    "#### Вставкой "
   ]
  },
  {
   "cell_type": "code",
   "execution_count": 55,
   "metadata": {},
   "outputs": [
    {
     "name": "stdout",
     "output_type": "stream",
     "text": [
      "[-54, -190, 632, -184, 81, 929, 581, -153, 746, -183]\n",
      "[-190, -184, -183, -153, -54, 81, 581, 632, 746, 929] \n",
      "Сортировка вставкой заняла 0.0000859000 секунд \n",
      "Сортировка вставкой медленнее встроенной\n"
     ]
    }
   ],
   "source": [
    "def insertion_sort(matr):\n",
    "    for i in range(len(matr)):\n",
    "        j = i - 1\n",
    "        key = matr[i]\n",
    "        while matr[j] > key and j >=0:\n",
    "            matr[j +1] = matr[j]\n",
    "            j-=1\n",
    "        matr[j+1] = key    \n",
    "matr_random = [random.randint(-250, 1001) for i in range(10)]\n",
    "print(matr_random)\n",
    "time_start = time.perf_counter()\n",
    "insertion_sort(matr_random)\n",
    "time_end = time.perf_counter()\n",
    "print(matr_random, f\"\\nСортировка вставкой заняла {time_end - time_start:0.10f} секунд \\nСортировка вставкой медленнее встроенной\")"
   ]
  },
  {
   "cell_type": "markdown",
   "metadata": {},
   "source": [
    "#### Обменом "
   ]
  },
  {
   "cell_type": "code",
   "execution_count": 56,
   "metadata": {},
   "outputs": [
    {
     "name": "stdout",
     "output_type": "stream",
     "text": [
      "[993, 159, 681, 933, 319, 832, 245, 680, 352, -35]\n",
      "[-35, 159, 245, 319, 352, 680, 681, 832, 933, 993] \n",
      "Сортировка обменом заняла 0.0000816000 секунд \n",
      "Сортировка обменом медленнее встроенной\n"
     ]
    }
   ],
   "source": [
    "def bubble_sort(matr):\n",
    "    changed = True\n",
    "    while changed:\n",
    "        changed = False\n",
    "        for i in range(len(matr) - 1):\n",
    "            if matr[i] > matr[i+1]:\n",
    "                matr[i], matr[i+1] = matr[i+1], matr[i]\n",
    "                changed = True\n",
    "matr_random = [random.randint(-250, 1001) for i in range(10)]\n",
    "print(matr_random)\n",
    "time_start = time.perf_counter()\n",
    "bubble_sort(matr_random)\n",
    "time_end = time.perf_counter()\n",
    "print(matr_random, f\"\\nСортировка обменом заняла {time_end - time_start:0.10f} секунд \\nСортировка обменом медленнее встроенной\")"
   ]
  },
  {
   "cell_type": "markdown",
   "metadata": {},
   "source": [
    "#### Шелла "
   ]
  },
  {
   "cell_type": "code",
   "execution_count": 57,
   "metadata": {},
   "outputs": [
    {
     "name": "stdout",
     "output_type": "stream",
     "text": [
      "[-221, 709, 191, 602, 887, 416, 184, 42, 359, -134]\n",
      "[-221, -134, 42, 184, 191, 359, 416, 602, 709, 887] \n",
      "Сортировка Шелла заняла 0.0000716000 секунд \n",
      "Сортировка  медленнее встроенной\n"
     ]
    }
   ],
   "source": [
    "def shell_sort(matr):\n",
    "    length = len(matr)\n",
    "    gap = length//2\n",
    "    while gap > 0:\n",
    "        for i in range(gap, length):\n",
    "            curr_val = matr[i]\n",
    "            pos = i\n",
    "            while pos >= gap and matr[pos-gap] > curr_val:\n",
    "                matr[pos] = matr[pos-gap]\n",
    "                pos -= gap\n",
    "                matr[pos] = curr_val\n",
    "        gap//=2\n",
    "    return matr\n",
    "matr_random = [random.randint(-250, 1001) for i in range(10)]\n",
    "print(matr_random)\n",
    "time_start = time.perf_counter()\n",
    "shell_sort(matr_random)\n",
    "time_end = time.perf_counter()\n",
    "print(matr_random, f\"\\nСортировка Шелла заняла {time_end - time_start:0.10f} секунд \\nСортировка  медленнее встроенной\")"
   ]
  },
  {
   "cell_type": "markdown",
   "metadata": {},
   "source": [
    "#### Турнирная"
   ]
  },
  {
   "cell_type": "code",
   "execution_count": 58,
   "metadata": {},
   "outputs": [
    {
     "name": "stdout",
     "output_type": "stream",
     "text": [
      "[419, -209, 312, -58, 441, 412, 963, 868, 134, 287]\n",
      "[-209, -58, 134, 287, 312, 412, 419, 441, 868, 963] \n",
      "Турнирная сортировка заняла 0.0000915000 секунд \n",
      "Турнирная сортировка медленнее встроенной\n"
     ]
    }
   ],
   "source": [
    "def heapify(matr, lenght, index):\n",
    "    max = index\n",
    "    left = 2 * index\n",
    "    right = 2 * index + 1\n",
    "    if left < lenght and matr[max] < matr[left]:\n",
    "        max = left\n",
    "    if right < lenght and matr[max] < matr[right]:\n",
    "        max = right\n",
    "    if max != index:\n",
    "        matr[index], matr[max] = matr[max], matr[index]\n",
    "        heapify(matr, lenght, max)\n",
    "    return matr\n",
    "def tournament_sort(matr):\n",
    "    for i in range(len(matr) // 2, -1, -1):\n",
    "        heapify(matr, len(matr), i)\n",
    "    for i in range(len(matr) - 1, -1, -1):\n",
    "        if matr[0] > matr[i]:\n",
    "            matr[0], matr[i] = matr[i], matr[0]\n",
    "            heapify(matr, i, 0)\n",
    "matr_random = [random.randint(-250, 1001) for i in range(10)]\n",
    "print(matr_random)\n",
    "time_start = time.perf_counter()\n",
    "tournament_sort(matr_random)\n",
    "time_end = time.perf_counter()\n",
    "print(matr_random, f\"\\nТурнирная сортировка заняла {time_end - time_start:0.10f} секунд \\nТурнирная сортировка медленнее встроенной\")"
   ]
  },
  {
   "cell_type": "markdown",
   "metadata": {},
   "source": [
    "#### Быстрая  "
   ]
  },
  {
   "cell_type": "code",
   "execution_count": 59,
   "metadata": {},
   "outputs": [
    {
     "name": "stdout",
     "output_type": "stream",
     "text": [
      "[471, 161, 40, 219, -201, 932, 503, -157, 560, -113]\n",
      "[-201, -157, -113, 40, 161, 219, 471, 503, 560, 932] \n",
      "Быстрая сортировка заняла 0.0000880000 секунд \n",
      "Быстрая сортировка медленнее встроенной\n"
     ]
    }
   ],
   "source": [
    "def quick_sort(matr):\n",
    "    if len(matr) < 2:\n",
    "        return matr\n",
    "    else:\n",
    "        q = random.choice(matr)\n",
    "        L = []\n",
    "        M = []\n",
    "        R = []\n",
    "        for elem in matr:\n",
    "            if elem<q:\n",
    "                L.append(elem)\n",
    "            elif elem > q:\n",
    "                R.append(elem)\n",
    "            else:\n",
    "                M.append(elem)\n",
    "        return quick_sort(L)+M+quick_sort(R)\n",
    "matr_random = [random.randint(-250, 1001) for i in range(10)]\n",
    "print(matr_random)\n",
    "time_start = time.perf_counter()\n",
    "quick_sort(matr_random)\n",
    "time_end = time.perf_counter()\n",
    "print(quick_sort(matr_random), f\"\\nБыстрая сортировка заняла {time_end - time_start:0.10f} секунд \\nБыстрая сортировка медленнее встроенной\")"
   ]
  },
  {
   "cell_type": "markdown",
   "metadata": {},
   "source": [
    "#### Пирамидальная"
   ]
  },
  {
   "cell_type": "code",
   "execution_count": 60,
   "metadata": {},
   "outputs": [
    {
     "name": "stdout",
     "output_type": "stream",
     "text": [
      "[698, 812, 978, 852, 759, 759, 832, -115, 66, -226]\n",
      "[-226, -115, 66, 698, 759, 759, 812, 832, 852, 978] \n",
      "Пирамидальная сортировка заняла 0.0000849000 секунд \n",
      "Пирамидальная сортировка медленнее встроенной\n"
     ]
    }
   ],
   "source": [
    "def binary_heap(matr, length, index):\n",
    "        largest = index\n",
    "        left = 2 * index + 1\n",
    "        right = 2 * index + 2\n",
    "        if left < length and matr[index] < matr[left]:\n",
    "            largest = left\n",
    "        if right < length and matr[largest] < matr[right]:\n",
    "            largest = right\n",
    "        if largest != index:\n",
    "            matr[index], matr[largest] = matr[largest], matr[index]\n",
    "            binary_heap(matr, length, largest)\n",
    "def heap_sort(matr):\n",
    "    length = len(matr)\n",
    "    for index in range(length, -1, -1):\n",
    "        binary_heap(matr, length, index)\n",
    "    for index in range(length -1, 0, -1):\n",
    "        matr[index], matr[0] = matr[0], matr[index]\n",
    "        binary_heap(matr, index, 0)\n",
    "matr_random = [random.randint(-250, 1001) for i in range(10)]\n",
    "print(matr_random)\n",
    "time_start = time.perf_counter()\n",
    "heap_sort(matr_random)\n",
    "time_end = time.perf_counter()\n",
    "print(matr_random, f\"\\nПирамидальная сортировка заняла {time_end - time_start:0.10f} секунд \\nПирамидальная сортировка медленнее встроенной\")"
   ]
  },
  {
   "cell_type": "markdown",
   "metadata": {},
   "source": [
    "### Вывод: "
   ]
  },
  {
   "cell_type": "markdown",
   "metadata": {},
   "source": [
    "В данной лабораторной работе я сравнил время работы различных методов сортировки строк числовой матрицы.\n",
    "Встроенная сортировка оказалась быстрее остальных."
   ]
  }
 ],
 "metadata": {
  "kernelspec": {
   "display_name": "Python 3 (ipykernel)",
   "language": "python",
   "name": "python3"
  },
  "language_info": {
   "codemirror_mode": {
    "name": "ipython",
    "version": 3
   },
   "file_extension": ".py",
   "mimetype": "text/x-python",
   "name": "python",
   "nbconvert_exporter": "python",
   "pygments_lexer": "ipython3",
   "version": "3.9.7"
  }
 },
 "nbformat": 4,
 "nbformat_minor": 4
}
